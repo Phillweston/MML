{
 "cells": [
  {
   "cell_type": "markdown",
   "id": "bb5e997f-c2f4-4abd-8c99-abca78df6ee2",
   "metadata": {},
   "source": [
    "# 第 1 章 向量和向量空间\n",
    "\n",
    "## 1.1 向量\n",
    "\n",
    "### 1.1.1 描述向量"
   ]
  },
  {
   "cell_type": "markdown",
   "id": "a88ca57f-f590-4ad5-a6c3-671c7cfed2e9",
   "metadata": {},
   "source": [
    "《跟老齐学 Python：数据分析》\n",
    "\n",
    "《Python 大学实用教程》\n",
    "\n",
    "《数据准备和特征工程》"
   ]
  },
  {
   "cell_type": "code",
   "execution_count": 1,
   "id": "126fb7ee-676a-4c25-b422-9a4499ec324b",
   "metadata": {},
   "outputs": [
    {
     "data": {
      "text/plain": [
       "array([1, 6, 7])"
      ]
     },
     "execution_count": 1,
     "metadata": {},
     "output_type": "execute_result"
    }
   ],
   "source": [
    "import numpy as np\n",
    "u = np.array([1, 6, 7])\n",
    "u"
   ]
  },
  {
   "cell_type": "code",
   "execution_count": 2,
   "id": "154523a1-808b-4cc7-988d-825161ba831a",
   "metadata": {},
   "outputs": [
    {
     "data": {
      "text/plain": [
       "array([[1],\n",
       "       [6],\n",
       "       [7]])"
      ]
     },
     "execution_count": 2,
     "metadata": {},
     "output_type": "execute_result"
    }
   ],
   "source": [
    "v = u.reshape(-1, 1)\n",
    "v"
   ]
  },
  {
   "cell_type": "code",
   "execution_count": 3,
   "id": "0e5ae23e-0d11-49cd-97bb-4fdcd4806e29",
   "metadata": {},
   "outputs": [
    {
     "name": "stdout",
     "output_type": "stream",
     "text": [
      "列表解析用时： 0.008679866790771484s\n",
      "数组（向量）运算用时：0.0005750656127929688s\n",
      "列表解析的运算时间是向量运算时间的：15.094倍\n"
     ]
    }
   ],
   "source": [
    "import random, time\n",
    "\n",
    "# 创建一个列表\n",
    "lst = [random.randint(1, 100) for i in range(100000)]\n",
    "\n",
    "\n",
    "start = time.time()\n",
    "lst2 = [i*i for i in lst]    # 用列表解析的方式计算每个数的平方\n",
    "end = time.time()\n",
    "print(f\"列表解析用时： {end - start}s\")\n",
    "\n",
    "vlst = np.array(lst)    # 将列表转换为数组表示的向量\n",
    "start2 = time.time()\n",
    "vlst2 = vlst * vlst    # 用数组相乘计算每个数的平方\n",
    "end2 = time.time()\n",
    "print(f\"数组（向量）运算用时：{end2 - start2}s\")\n",
    "print(f\"列表解析的运算时间是向量运算时间的：{round((end-start)/(end2-start2), 3)}倍\")"
   ]
  },
  {
   "cell_type": "markdown",
   "id": "88cd08d9-e7a9-451a-a7fe-8f01557d5744",
   "metadata": {},
   "source": [
    "**应用：NLP**\n",
    "\n",
    "d1: mathematics machine learn\n",
    "\n",
    "d2: learn python learn mathematics\n",
    "\n",
    "![](./lessonimages/ml.png)"
   ]
  },
  {
   "cell_type": "markdown",
   "id": "5e876d08-2516-4dba-bbbe-b960a8f12b4a",
   "metadata": {},
   "source": [
    "$\\pmb{d}_1 = \\begin{bmatrix}1&1&1&0\\end{bmatrix}$，$\\pmb{d}_2 = \\begin{bmatrix}2&0&1&1\\end{bmatrix}$\n",
    "\n",
    "**词袋**"
   ]
  },
  {
   "cell_type": "code",
   "execution_count": 5,
   "id": "220a2041-a46f-4356-9da7-c835dc1def25",
   "metadata": {},
   "outputs": [
    {
     "data": {
      "text/plain": [
       "['learn', 'machine', 'mathematics', 'python']"
      ]
     },
     "execution_count": 5,
     "metadata": {},
     "output_type": "execute_result"
    }
   ],
   "source": [
    "from sklearn.feature_extraction.text import CountVectorizer  \n",
    "vectorizer=CountVectorizer()                                              # (1)\n",
    "corpus=[\"mathematics machine learn\", \"learn python learn mathematics\"]    # (2)\n",
    "cor_vec = vectorizer.fit_transform(corpus)                                # (3)\n",
    "vectorizer.get_feature_names()                                            # (4)"
   ]
  },
  {
   "cell_type": "code",
   "execution_count": 6,
   "id": "372f5ee9-1478-48ce-8212-36f6af3b38ff",
   "metadata": {},
   "outputs": [
    {
     "name": "stdout",
     "output_type": "stream",
     "text": [
      "  (0, 2)\t1\n",
      "  (0, 1)\t1\n",
      "  (0, 0)\t1\n",
      "  (1, 2)\t1\n",
      "  (1, 0)\t2\n",
      "  (1, 3)\t1\n"
     ]
    }
   ],
   "source": [
    "print(cor_vec)"
   ]
  },
  {
   "cell_type": "code",
   "execution_count": 7,
   "id": "788e3dbc-703c-41fa-9f14-6cd4c36b70a6",
   "metadata": {},
   "outputs": [
    {
     "data": {
      "text/html": [
       "<div>\n",
       "<style scoped>\n",
       "    .dataframe tbody tr th:only-of-type {\n",
       "        vertical-align: middle;\n",
       "    }\n",
       "\n",
       "    .dataframe tbody tr th {\n",
       "        vertical-align: top;\n",
       "    }\n",
       "\n",
       "    .dataframe thead th {\n",
       "        text-align: right;\n",
       "    }\n",
       "</style>\n",
       "<table border=\"1\" class=\"dataframe\">\n",
       "  <thead>\n",
       "    <tr style=\"text-align: right;\">\n",
       "      <th></th>\n",
       "      <th>learn</th>\n",
       "      <th>machine</th>\n",
       "      <th>mathematics</th>\n",
       "      <th>python</th>\n",
       "    </tr>\n",
       "  </thead>\n",
       "  <tbody>\n",
       "    <tr>\n",
       "      <th>0</th>\n",
       "      <td>1</td>\n",
       "      <td>1</td>\n",
       "      <td>1</td>\n",
       "      <td>0</td>\n",
       "    </tr>\n",
       "    <tr>\n",
       "      <th>1</th>\n",
       "      <td>2</td>\n",
       "      <td>0</td>\n",
       "      <td>1</td>\n",
       "      <td>1</td>\n",
       "    </tr>\n",
       "  </tbody>\n",
       "</table>\n",
       "</div>"
      ],
      "text/plain": [
       "   learn  machine  mathematics  python\n",
       "0      1        1            1       0\n",
       "1      2        0            1       1"
      ]
     },
     "execution_count": 7,
     "metadata": {},
     "output_type": "execute_result"
    }
   ],
   "source": [
    "import pandas as pd\n",
    "df = pd.DataFrame(cor_vec.toarray(), columns=vectorizer.get_feature_names())\n",
    "df"
   ]
  },
  {
   "cell_type": "markdown",
   "id": "eec17d41-0a31-48b1-b112-f376e8de8e30",
   "metadata": {},
   "source": [
    "**字词频数** $n_{ij}$\n",
    "\n",
    "**字词频率** tf\n",
    "\n",
    "**逆向文件频率** idf\n",
    "\n",
    "tf-idf"
   ]
  },
  {
   "cell_type": "code",
   "execution_count": 8,
   "id": "94abcd5e-c0c5-4564-be1d-15c6f4532ebf",
   "metadata": {},
   "outputs": [
    {
     "data": {
      "text/plain": [
       "array([1.        , 1.40546511, 1.        , 1.40546511])"
      ]
     },
     "execution_count": 8,
     "metadata": {},
     "output_type": "execute_result"
    }
   ],
   "source": [
    "from sklearn.feature_extraction.text import TfidfTransformer\n",
    "\n",
    "tfidf_trans = TfidfTransformer()\n",
    "tfidf = tfidf_trans.fit_transform(cor_vec)\n",
    "\n",
    "# 每个字词的idf\n",
    "tfidf_trans.idf_"
   ]
  },
  {
   "cell_type": "code",
   "execution_count": 9,
   "id": "9d34fb27-0bf0-4e8c-bf67-28f2507496ac",
   "metadata": {},
   "outputs": [
    {
     "data": {
      "text/plain": [
       "array([[0.50154891, 0.70490949, 0.50154891, 0.        ],\n",
       "       [0.75726441, 0.        , 0.37863221, 0.53215436]])"
      ]
     },
     "execution_count": 9,
     "metadata": {},
     "output_type": "execute_result"
    }
   ],
   "source": [
    "tfidf.toarray()"
   ]
  },
  {
   "cell_type": "markdown",
   "id": "f508a43c-f086-4546-a7f6-68bfcce56976",
   "metadata": {},
   "source": [
    "### 1.1.2 向量的加法"
   ]
  },
  {
   "cell_type": "code",
   "execution_count": 10,
   "id": "b89d7e18-66da-4251-959e-f086f7ad5939",
   "metadata": {},
   "outputs": [
    {
     "data": {
      "text/plain": [
       "array([[5],\n",
       "       [4]])"
      ]
     },
     "execution_count": 10,
     "metadata": {},
     "output_type": "execute_result"
    }
   ],
   "source": [
    "import numpy as np\n",
    "np.array([[2],[1]]) + np.array([[3], [3]])"
   ]
  },
  {
   "cell_type": "code",
   "execution_count": 11,
   "id": "b523d048-b74c-4952-a421-260bb2cd9532",
   "metadata": {},
   "outputs": [
    {
     "data": {
      "text/plain": [
       "array([[-1],\n",
       "       [-2]])"
      ]
     },
     "execution_count": 11,
     "metadata": {},
     "output_type": "execute_result"
    }
   ],
   "source": [
    "np.array([[2],[1]]) - np.array([[3], [3]])"
   ]
  },
  {
   "cell_type": "markdown",
   "id": "6df133bb-7bfa-49f4-ba8f-eda606e54e21",
   "metadata": {},
   "source": [
    "**1.1.3 向量的数量乘法**"
   ]
  },
  {
   "cell_type": "code",
   "execution_count": 12,
   "id": "7c5b98dd-95f9-4822-aace-3db96ff38598",
   "metadata": {},
   "outputs": [
    {
     "data": {
      "text/plain": [
       "array([[6],\n",
       "       [2]])"
      ]
     },
     "execution_count": 12,
     "metadata": {},
     "output_type": "execute_result"
    }
   ],
   "source": [
    "2 * np.array([[3], [1]])"
   ]
  },
  {
   "cell_type": "code",
   "execution_count": 13,
   "id": "1ddf2897-458d-48a6-be68-cc6c59789145",
   "metadata": {},
   "outputs": [
    {
     "data": {
      "text/plain": [
       "array([[-3],\n",
       "       [-1]])"
      ]
     },
     "execution_count": 13,
     "metadata": {},
     "output_type": "execute_result"
    }
   ],
   "source": [
    "-1 * np.array([[3], [1]])"
   ]
  },
  {
   "cell_type": "code",
   "execution_count": null,
   "id": "40924ddc-fc4d-4f07-b8c7-25f4da4d0c71",
   "metadata": {},
   "outputs": [],
   "source": []
  }
 ],
 "metadata": {
  "kernelspec": {
   "display_name": "Python 3 (ipykernel)",
   "language": "python",
   "name": "python3"
  },
  "language_info": {
   "codemirror_mode": {
    "name": "ipython",
    "version": 3
   },
   "file_extension": ".py",
   "mimetype": "text/x-python",
   "name": "python",
   "nbconvert_exporter": "python",
   "pygments_lexer": "ipython3",
   "version": "3.9.4"
  }
 },
 "nbformat": 4,
 "nbformat_minor": 5
}
